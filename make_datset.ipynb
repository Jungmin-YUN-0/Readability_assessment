{
 "cells": [
  {
   "cell_type": "code",
   "execution_count": 5,
   "metadata": {},
   "outputs": [
    {
     "data": {
      "text/html": [
       "<div>\n",
       "<style scoped>\n",
       "    .dataframe tbody tr th:only-of-type {\n",
       "        vertical-align: middle;\n",
       "    }\n",
       "\n",
       "    .dataframe tbody tr th {\n",
       "        vertical-align: top;\n",
       "    }\n",
       "\n",
       "    .dataframe thead tr th {\n",
       "        text-align: left;\n",
       "    }\n",
       "</style>\n",
       "<table border=\"1\" class=\"dataframe\">\n",
       "  <thead>\n",
       "    <tr>\n",
       "      <th></th>\n",
       "      <th>label</th>\n",
       "      <th>text</th>\n",
       "    </tr>\n",
       "  </thead>\n",
       "  <tbody>\n",
       "    <tr>\n",
       "      <th>561</th>\n",
       "      <td>Advanced</td>\n",
       "      <td>The forests – and suburbs – of Europe are echo...</td>\n",
       "    </tr>\n",
       "    <tr>\n",
       "      <th>562</th>\n",
       "      <td>Elementary</td>\n",
       "      <td>American researchers say that a nasal spray co...</td>\n",
       "    </tr>\n",
       "    <tr>\n",
       "      <th>563</th>\n",
       "      <td>Elementary</td>\n",
       "      <td>It was a beautiful summer evening and I decide...</td>\n",
       "    </tr>\n",
       "    <tr>\n",
       "      <th>564</th>\n",
       "      <td>Elementary</td>\n",
       "      <td>Not sleeping very much used to be a sign that ...</td>\n",
       "    </tr>\n",
       "    <tr>\n",
       "      <th>565</th>\n",
       "      <td>Advanced</td>\n",
       "      <td>The tranquil chorus of the natural world is in...</td>\n",
       "    </tr>\n",
       "  </tbody>\n",
       "</table>\n",
       "</div>"
      ],
      "text/plain": [
       "          label                                               text\n",
       "561    Advanced  The forests – and suburbs – of Europe are echo...\n",
       "562  Elementary  American researchers say that a nasal spray co...\n",
       "563  Elementary  It was a beautiful summer evening and I decide...\n",
       "564  Elementary  Not sleeping very much used to be a sign that ...\n",
       "565    Advanced  The tranquil chorus of the natural world is in..."
      ]
     },
     "execution_count": 5,
     "metadata": {},
     "output_type": "execute_result"
    }
   ],
   "source": [
    "import pandas as pd\n",
    "\n",
    "df = pd.read_csv(r'/home/jungmin/readability/text_augmentation/TransformersDataAugmentation/datasets/onestopeng/onestopeng.csv', sep='\\t')\n",
    "df.columns = [['label','text']]\n",
    "df.tail()"
   ]
  },
  {
   "cell_type": "code",
   "execution_count": 8,
   "metadata": {},
   "outputs": [
    {
     "data": {
      "text/html": [
       "<div>\n",
       "<style scoped>\n",
       "    .dataframe tbody tr th:only-of-type {\n",
       "        vertical-align: middle;\n",
       "    }\n",
       "\n",
       "    .dataframe tbody tr th {\n",
       "        vertical-align: top;\n",
       "    }\n",
       "\n",
       "    .dataframe thead tr th {\n",
       "        text-align: left;\n",
       "    }\n",
       "</style>\n",
       "<table border=\"1\" class=\"dataframe\">\n",
       "  <thead>\n",
       "    <tr>\n",
       "      <th></th>\n",
       "      <th>label</th>\n",
       "      <th>text</th>\n",
       "    </tr>\n",
       "  </thead>\n",
       "  <tbody>\n",
       "    <tr>\n",
       "      <th>561</th>\n",
       "      <td>2</td>\n",
       "      <td>The forests – and suburbs – of Europe are echo...</td>\n",
       "    </tr>\n",
       "    <tr>\n",
       "      <th>562</th>\n",
       "      <td>0</td>\n",
       "      <td>American researchers say that a nasal spray co...</td>\n",
       "    </tr>\n",
       "    <tr>\n",
       "      <th>563</th>\n",
       "      <td>0</td>\n",
       "      <td>It was a beautiful summer evening and I decide...</td>\n",
       "    </tr>\n",
       "    <tr>\n",
       "      <th>564</th>\n",
       "      <td>0</td>\n",
       "      <td>Not sleeping very much used to be a sign that ...</td>\n",
       "    </tr>\n",
       "    <tr>\n",
       "      <th>565</th>\n",
       "      <td>2</td>\n",
       "      <td>The tranquil chorus of the natural world is in...</td>\n",
       "    </tr>\n",
       "  </tbody>\n",
       "</table>\n",
       "</div>"
      ],
      "text/plain": [
       "    label                                               text\n",
       "561     2  The forests – and suburbs – of Europe are echo...\n",
       "562     0  American researchers say that a nasal spray co...\n",
       "563     0  It was a beautiful summer evening and I decide...\n",
       "564     0  Not sleeping very much used to be a sign that ...\n",
       "565     2  The tranquil chorus of the natural world is in..."
      ]
     },
     "execution_count": 8,
     "metadata": {},
     "output_type": "execute_result"
    }
   ],
   "source": [
    "#  1. label 바꾸기 (Elementary:0, Intermediate:1, Advanced=2) \n",
    "\n",
    "df['label']=df['label'].replace('Advanced', 2, regex=True)\n",
    "df['label']=df['label'].replace('Intermediate', 1, regex=True)\n",
    "df['label']=df['label'].replace('Elementary', 0, regex=True)\n",
    "\n",
    "df.tail()"
   ]
  },
  {
   "cell_type": "code",
   "execution_count": 23,
   "metadata": {},
   "outputs": [],
   "source": [
    "#  2. train, valid, test로 나누기(80%, 10%, 10%)\n",
    "\n",
    "from sklearn.model_selection import train_test_split\n",
    "\n",
    "train, x = train_test_split(df,test_size=0.2,train_size=0.8)\n",
    "val, test = train_test_split(x, test_size = 0.5,train_size =0.5)"
   ]
  },
  {
   "cell_type": "code",
   "execution_count": 28,
   "metadata": {},
   "outputs": [
    {
     "data": {
      "text/plain": [
       "(452, 57, 57)"
      ]
     },
     "execution_count": 28,
     "metadata": {},
     "output_type": "execute_result"
    }
   ],
   "source": [
    "train = train.reset_index(drop=True)\n",
    "val = val.reset_index(drop=True)\n",
    "test = test.reset_index(drop=True)\n",
    "\n",
    "len(train), len(val), len(test)"
   ]
  },
  {
   "cell_type": "code",
   "execution_count": null,
   "metadata": {},
   "outputs": [],
   "source": [
    "#  3. .tsv(from .csv) 파일 형식으로 바꿔서 저장하기\n",
    "save_path = \n",
    "\n",
    "train.to_csv('train.tsv', sep=\"\\t\", index=False, header=None)\n"
   ]
  },
  {
   "cell_type": "code",
   "execution_count": null,
   "metadata": {},
   "outputs": [],
   "source": []
  }
 ],
 "metadata": {
  "kernelspec": {
   "display_name": "Python 3.9.13 ('conda')",
   "language": "python",
   "name": "python3"
  },
  "language_info": {
   "codemirror_mode": {
    "name": "ipython",
    "version": 3
   },
   "file_extension": ".py",
   "mimetype": "text/x-python",
   "name": "python",
   "nbconvert_exporter": "python",
   "pygments_lexer": "ipython3",
   "version": "3.9.13"
  },
  "orig_nbformat": 4,
  "vscode": {
   "interpreter": {
    "hash": "3ea3cf71d1af379c21f6631a32963686d6437ec7f6b3e457abcf5477244893fd"
   }
  }
 },
 "nbformat": 4,
 "nbformat_minor": 2
}
